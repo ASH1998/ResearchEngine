{
 "cells": [
  {
   "cell_type": "code",
   "execution_count": 1,
   "metadata": {
    "_cell_guid": "79c7e3d0-c299-4dcb-8224-4455121ee9b0",
    "_uuid": "d629ff2d2480ee46fbb7e2d37f6b5fab8052498a",
    "execution": {
     "iopub.execute_input": "2020-09-24T14:46:29.803089Z",
     "iopub.status.busy": "2020-09-24T14:46:29.801895Z",
     "iopub.status.idle": "2020-09-24T14:46:29.809555Z",
     "shell.execute_reply": "2020-09-24T14:46:29.810121Z"
    },
    "papermill": {
     "duration": 0.021958,
     "end_time": "2020-09-24T14:46:29.810354",
     "exception": false,
     "start_time": "2020-09-24T14:46:29.788396",
     "status": "completed"
    },
    "tags": []
   },
   "outputs": [],
   "source": [
    "import json\n",
    "from tqdm import tqdm_notebook\n",
    "import re\n",
    "import pandas as pd\n",
    "import datetime\n",
    "now = datetime.datetime.now()\n",
    "\n",
    "\n",
    "data_file = '../input/arxiv/arxiv-metadata-oai-snapshot.json'\n",
    "\n",
    "def read_metadata():\n",
    "    with open(data_file, 'r') as f:\n",
    "        for line in f:\n",
    "            yield line"
   ]
  },
  {
   "cell_type": "code",
   "execution_count": 2,
   "metadata": {
    "execution": {
     "iopub.execute_input": "2020-09-24T14:46:29.832647Z",
     "iopub.status.busy": "2020-09-24T14:46:29.831414Z",
     "iopub.status.idle": "2020-09-24T14:46:29.862288Z",
     "shell.execute_reply": "2020-09-24T14:46:29.862812Z"
    },
    "papermill": {
     "duration": 0.043669,
     "end_time": "2020-09-24T14:46:29.863047",
     "exception": false,
     "start_time": "2020-09-24T14:46:29.819378",
     "status": "completed"
    },
    "tags": []
   },
   "outputs": [],
   "source": [
    "category_map = {'astro-ph': 'Astrophysics',\n",
    "                'astro-ph.CO': 'Cosmology and Nongalactic Astrophysics',\n",
    "                'astro-ph.EP': 'Earth and Planetary Astrophysics',\n",
    "                'astro-ph.GA': 'Astrophysics of Galaxies',\n",
    "                'astro-ph.HE': 'High Energy Astrophysical Phenomena',\n",
    "                'astro-ph.IM': 'Instrumentation and Methods for Astrophysics',\n",
    "                'astro-ph.SR': 'Solar and Stellar Astrophysics',\n",
    "                'cond-mat.dis-nn': 'Disordered Systems and Neural Networks',\n",
    "                'cond-mat.mes-hall': 'Mesoscale and Nanoscale Physics',\n",
    "                'cond-mat.mtrl-sci': 'Materials Science',\n",
    "                'cond-mat.other': 'Other Condensed Matter',\n",
    "                'cond-mat.quant-gas': 'Quantum Gases',\n",
    "                'cond-mat.soft': 'Soft Condensed Matter',\n",
    "                'cond-mat.stat-mech': 'Statistical Mechanics',\n",
    "                'cond-mat.str-el': 'Strongly Correlated Electrons',\n",
    "                'cond-mat.supr-con': 'Superconductivity',\n",
    "                'cs.AI': 'Artificial Intelligence',\n",
    "                'cs.AR': 'Hardware Architecture',\n",
    "                'cs.CC': 'Computational Complexity',\n",
    "                'cs.CE': 'Computational Engineering, Finance, and Science',\n",
    "                'cs.CG': 'Computational Geometry',\n",
    "                'cs.CL': 'Computation and Language',\n",
    "                'cs.CR': 'Cryptography and Security',\n",
    "                'cs.CV': 'Computer Vision and Pattern Recognition',\n",
    "                'cs.CY': 'Computers and Society',\n",
    "                'cs.DB': 'Databases',\n",
    "                'cs.DC': 'Distributed, Parallel, and Cluster Computing',\n",
    "                'cs.DL': 'Digital Libraries',\n",
    "                'cs.DM': 'Discrete Mathematics',\n",
    "                'cs.DS': 'Data Structures and Algorithms',\n",
    "                'cs.ET': 'Emerging Technologies',\n",
    "                'cs.FL': 'Formal Languages and Automata Theory',\n",
    "                'cs.GL': 'General Literature',\n",
    "                'cs.GR': 'Graphics',\n",
    "                'cs.GT': 'Computer Science and Game Theory',\n",
    "                'cs.HC': 'Human-Computer Interaction',\n",
    "                'cs.IR': 'Information Retrieval',\n",
    "                'cs.IT': 'Information Theory',\n",
    "                'cs.LG': 'Machine Learning',\n",
    "                'cs.LO': 'Logic in Computer Science',\n",
    "                'cs.MA': 'Multiagent Systems',\n",
    "                'cs.MM': 'Multimedia',\n",
    "                'cs.MS': 'Mathematical Software',\n",
    "                'cs.NA': 'Numerical Analysis',\n",
    "                'cs.NE': 'Neural and Evolutionary Computing',\n",
    "                'cs.NI': 'Networking and Internet Architecture',\n",
    "                'cs.OH': 'Other Computer Science',\n",
    "                'cs.OS': 'Operating Systems',\n",
    "                'cs.PF': 'Performance',\n",
    "                'cs.PL': 'Programming Languages',\n",
    "                'cs.RO': 'Robotics',\n",
    "                'cs.SC': 'Symbolic Computation',\n",
    "                'cs.SD': 'Sound',\n",
    "                'cs.SE': 'Software Engineering',\n",
    "                'cs.SI': 'Social and Information Networks',\n",
    "                'cs.SY': 'Systems and Control',\n",
    "                'econ.EM': 'Econometrics',\n",
    "                'eess.AS': 'Audio and Speech Processing',\n",
    "                'eess.IV': 'Image and Video Processing',\n",
    "                'eess.SP': 'Signal Processing',\n",
    "                'gr-qc': 'General Relativity and Quantum Cosmology',\n",
    "                'hep-ex': 'High Energy Physics - Experiment',\n",
    "                'hep-lat': 'High Energy Physics - Lattice',\n",
    "                'hep-ph': 'High Energy Physics - Phenomenology',\n",
    "                'hep-th': 'High Energy Physics - Theory',\n",
    "                'math.AC': 'Commutative Algebra',\n",
    "                'math.AG': 'Algebraic Geometry',\n",
    "                'math.AP': 'Analysis of PDEs',\n",
    "                'math.AT': 'Algebraic Topology',\n",
    "                'math.CA': 'Classical Analysis and ODEs',\n",
    "                'math.CO': 'Combinatorics',\n",
    "                'math.CT': 'Category Theory',\n",
    "                'math.CV': 'Complex Variables',\n",
    "                'math.DG': 'Differential Geometry',\n",
    "                'math.DS': 'Dynamical Systems',\n",
    "                'math.FA': 'Functional Analysis',\n",
    "                'math.GM': 'General Mathematics',\n",
    "                'math.GN': 'General Topology',\n",
    "                'math.GR': 'Group Theory',\n",
    "                'math.GT': 'Geometric Topology',\n",
    "                'math.HO': 'History and Overview',\n",
    "                'math.IT': 'Information Theory',\n",
    "                'math.KT': 'K-Theory and Homology',\n",
    "                'math.LO': 'Logic',\n",
    "                'math.MG': 'Metric Geometry',\n",
    "                'math.MP': 'Mathematical Physics',\n",
    "                'math.NA': 'Numerical Analysis',\n",
    "                'math.NT': 'Number Theory',\n",
    "                'math.OA': 'Operator Algebras',\n",
    "                'math.OC': 'Optimization and Control',\n",
    "                'math.PR': 'Probability',\n",
    "                'math.QA': 'Quantum Algebra',\n",
    "                'math.RA': 'Rings and Algebras',\n",
    "                'math.RT': 'Representation Theory',\n",
    "                'math.SG': 'Symplectic Geometry',\n",
    "                'math.SP': 'Spectral Theory',\n",
    "                'math.ST': 'Statistics Theory',\n",
    "                'math-ph': 'Mathematical Physics',\n",
    "                'nlin.AO': 'Adaptation and Self-Organizing Systems',\n",
    "                'nlin.CD': 'Chaotic Dynamics',\n",
    "                'nlin.CG': 'Cellular Automata and Lattice Gases',\n",
    "                'nlin.PS': 'Pattern Formation and Solitons',\n",
    "                'nlin.SI': 'Exactly Solvable and Integrable Systems',\n",
    "                'nucl-ex': 'Nuclear Experiment',\n",
    "                'nucl-th': 'Nuclear Theory',\n",
    "                'physics.acc-ph': 'Accelerator Physics',\n",
    "                'physics.ao-ph': 'Atmospheric and Oceanic Physics',\n",
    "                'physics.app-ph': 'Applied Physics',\n",
    "                'physics.atm-clus': 'Atomic and Molecular Clusters',\n",
    "                'physics.atom-ph': 'Atomic Physics',\n",
    "                'physics.bio-ph': 'Biological Physics',\n",
    "                'physics.chem-ph': 'Chemical Physics',\n",
    "                'physics.class-ph': 'Classical Physics',\n",
    "                'physics.comp-ph': 'Computational Physics',\n",
    "                'physics.data-an': 'Data Analysis, Statistics and Probability',\n",
    "                'physics.ed-ph': 'Physics Education',\n",
    "                'physics.flu-dyn': 'Fluid Dynamics',\n",
    "                'physics.gen-ph': 'General Physics',\n",
    "                'physics.geo-ph': 'Geophysics',\n",
    "                'physics.hist-ph': 'History and Philosophy of Physics',\n",
    "                'physics.ins-det': 'Instrumentation and Detectors',\n",
    "                'physics.med-ph': 'Medical Physics',\n",
    "                'physics.optics': 'Optics',\n",
    "                'physics.plasm-ph': 'Plasma Physics',\n",
    "                'physics.pop-ph': 'Popular Physics',\n",
    "                'physics.soc-ph': 'Physics and Society',\n",
    "                'physics.space-ph': 'Space Physics',\n",
    "                'q-bio.BM': 'Biomolecules',\n",
    "                'q-bio.CB': 'Cell Behavior',\n",
    "                'q-bio.GN': 'Genomics',\n",
    "                'q-bio.MN': 'Molecular Networks',\n",
    "                'q-bio.NC': 'Neurons and Cognition',\n",
    "                'q-bio.OT': 'Other Quantitative Biology',\n",
    "                'q-bio.PE': 'Populations and Evolution',\n",
    "                'q-bio.QM': 'Quantitative Methods',\n",
    "                'q-bio.SC': 'Subcellular Processes',\n",
    "                'q-bio.TO': 'Tissues and Organs',\n",
    "                'q-fin.CP': 'Computational Finance',\n",
    "                'q-fin.EC': 'Economics',\n",
    "                'q-fin.GN': 'General Finance',\n",
    "                'q-fin.MF': 'Mathematical Finance',\n",
    "                'q-fin.PM': 'Portfolio Management',\n",
    "                'q-fin.PR': 'Pricing of Securities',\n",
    "                'q-fin.RM': 'Risk Management',\n",
    "                'q-fin.ST': 'Statistical Finance',\n",
    "                'q-fin.TR': 'Trading and Market Microstructure',\n",
    "                'quant-ph': 'Quantum Physics',\n",
    "                'stat.AP': 'Applications',\n",
    "                'stat.CO': 'Computation',\n",
    "                'stat.ME': 'Methodology',\n",
    "                'stat.ML': 'Machine Learning',\n",
    "                'stat.OT': 'Other Statistics',\n",
    "                'stat.TH': 'Statistics Theory'}"
   ]
  },
  {
   "cell_type": "code",
   "execution_count": 3,
   "metadata": {
    "execution": {
     "iopub.execute_input": "2020-09-24T14:46:29.885079Z",
     "iopub.status.busy": "2020-09-24T14:46:29.883930Z",
     "iopub.status.idle": "2020-09-24T14:47:18.183381Z",
     "shell.execute_reply": "2020-09-24T14:47:18.182742Z"
    },
    "papermill": {
     "duration": 48.311882,
     "end_time": "2020-09-24T14:47:18.183529",
     "exception": false,
     "start_time": "2020-09-24T14:46:29.871647",
     "status": "completed"
    },
    "tags": []
   },
   "outputs": [
    {
     "name": "stderr",
     "output_type": "stream",
     "text": [
      "/opt/conda/lib/python3.7/site-packages/ipykernel_launcher.py:5: TqdmDeprecationWarning: This function will be removed in tqdm==5.0.0\n",
      "Please use `tqdm.notebook.tqdm` instead of `tqdm.tqdm_notebook`\n",
      "  \"\"\"\n"
     ]
    },
    {
     "data": {
      "application/vnd.jupyter.widget-view+json": {
       "model_id": "adebe41993314e7eb759eaed23efe3ba",
       "version_major": 2,
       "version_minor": 0
      },
      "text/plain": [
       "HBox(children=(FloatProgress(value=1.0, bar_style='info', max=1.0), HTML(value='')))"
      ]
     },
     "metadata": {},
     "output_type": "display_data"
    },
    {
     "name": "stdout",
     "output_type": "stream",
     "text": [
      "\n"
     ]
    }
   ],
   "source": [
    "metadata = read_metadata()\n",
    "flatten_data = []\n",
    "years_to_download = 50\n",
    "count = 0\n",
    "for paper in tqdm_notebook(metadata):\n",
    "    paper_dict = json.loads(paper)\n",
    "    ref = paper_dict.get('journal-ref')\n",
    "    category = paper_dict.get('categories')\n",
    "    try:\n",
    "        year = int(ref[-4:])\n",
    "        if category in category_map.keys() and now.year-year < years_to_download:\n",
    "            paper_dict['year'] = year\n",
    "            flatten_data.append(paper_dict)\n",
    "            count+=1\n",
    "#             if count>10000:\n",
    "#                 break\n",
    "    except:\n",
    "        continue"
   ]
  },
  {
   "cell_type": "code",
   "execution_count": 4,
   "metadata": {
    "execution": {
     "iopub.execute_input": "2020-09-24T14:47:18.210745Z",
     "iopub.status.busy": "2020-09-24T14:47:18.209996Z",
     "iopub.status.idle": "2020-09-24T14:47:19.618240Z",
     "shell.execute_reply": "2020-09-24T14:47:19.617589Z"
    },
    "papermill": {
     "duration": 1.424681,
     "end_time": "2020-09-24T14:47:19.618371",
     "exception": false,
     "start_time": "2020-09-24T14:47:18.193690",
     "status": "completed"
    },
    "tags": []
   },
   "outputs": [],
   "source": [
    "df = pd.DataFrame.from_dict(flatten_data)"
   ]
  },
  {
   "cell_type": "code",
   "execution_count": 5,
   "metadata": {
    "execution": {
     "iopub.execute_input": "2020-09-24T14:47:19.661301Z",
     "iopub.status.busy": "2020-09-24T14:47:19.656054Z",
     "iopub.status.idle": "2020-09-24T14:47:20.867566Z",
     "shell.execute_reply": "2020-09-24T14:47:20.866927Z"
    },
    "papermill": {
     "duration": 1.239158,
     "end_time": "2020-09-24T14:47:20.867715",
     "exception": false,
     "start_time": "2020-09-24T14:47:19.628557",
     "status": "completed"
    },
    "tags": []
   },
   "outputs": [],
   "source": [
    "df.categories = [category_map[i] for i in df.categories]\n",
    "df['pdf_link'] = [\"https://arxiv.org/pdf/{}\".format(i) for i in df['id']]\n",
    "df['pages'] = [re.findall('[0-9]+ page', str(i), re.I)[-1] if re.search('[0-9]+ page', str(i), re.I) else 'N/A' for i in df['comments']]"
   ]
  },
  {
   "cell_type": "code",
   "execution_count": 6,
   "metadata": {
    "execution": {
     "iopub.execute_input": "2020-09-24T14:47:21.050607Z",
     "iopub.status.busy": "2020-09-24T14:47:20.974038Z",
     "iopub.status.idle": "2020-09-24T14:47:21.228473Z",
     "shell.execute_reply": "2020-09-24T14:47:21.227779Z"
    },
    "papermill": {
     "duration": 0.350524,
     "end_time": "2020-09-24T14:47:21.228606",
     "exception": false,
     "start_time": "2020-09-24T14:47:20.878082",
     "status": "completed"
    },
    "tags": []
   },
   "outputs": [],
   "source": [
    "#authors in authors_parsed, rest not needed\n",
    "useless_columns = ['authors', 'journal-ref', 'doi', 'report-no', 'license', 'versions', 'comments']\n",
    "df.drop(useless_columns, axis=1, inplace=True)"
   ]
  },
  {
   "cell_type": "code",
   "execution_count": 7,
   "metadata": {
    "execution": {
     "iopub.execute_input": "2020-09-24T14:47:21.271348Z",
     "iopub.status.busy": "2020-09-24T14:47:21.270501Z",
     "iopub.status.idle": "2020-09-24T14:47:21.287931Z",
     "shell.execute_reply": "2020-09-24T14:47:21.287371Z"
    },
    "papermill": {
     "duration": 0.0487,
     "end_time": "2020-09-24T14:47:21.288085",
     "exception": false,
     "start_time": "2020-09-24T14:47:21.239385",
     "status": "completed"
    },
    "tags": []
   },
   "outputs": [
    {
     "data": {
      "text/html": [
       "<div>\n",
       "<style scoped>\n",
       "    .dataframe tbody tr th:only-of-type {\n",
       "        vertical-align: middle;\n",
       "    }\n",
       "\n",
       "    .dataframe tbody tr th {\n",
       "        vertical-align: top;\n",
       "    }\n",
       "\n",
       "    .dataframe thead th {\n",
       "        text-align: right;\n",
       "    }\n",
       "</style>\n",
       "<table border=\"1\" class=\"dataframe\">\n",
       "  <thead>\n",
       "    <tr style=\"text-align: right;\">\n",
       "      <th></th>\n",
       "      <th>id</th>\n",
       "      <th>submitter</th>\n",
       "      <th>title</th>\n",
       "      <th>categories</th>\n",
       "      <th>abstract</th>\n",
       "      <th>update_date</th>\n",
       "      <th>authors_parsed</th>\n",
       "      <th>year</th>\n",
       "      <th>pdf_link</th>\n",
       "      <th>pages</th>\n",
       "    </tr>\n",
       "  </thead>\n",
       "  <tbody>\n",
       "    <tr>\n",
       "      <th>0</th>\n",
       "      <td>0704.0001</td>\n",
       "      <td>Pavel Nadolsky</td>\n",
       "      <td>Calculation of prompt diphoton production cros...</td>\n",
       "      <td>High Energy Physics - Phenomenology</td>\n",
       "      <td>A fully differential calculation in perturba...</td>\n",
       "      <td>2008-11-26</td>\n",
       "      <td>[[Balázs, C., ], [Berger, E. L., ], [Nadolsky,...</td>\n",
       "      <td>2007</td>\n",
       "      <td>https://arxiv.org/pdf/0704.0001</td>\n",
       "      <td>37 page</td>\n",
       "    </tr>\n",
       "    <tr>\n",
       "      <th>1</th>\n",
       "      <td>0704.0007</td>\n",
       "      <td>Alejandro Corichi</td>\n",
       "      <td>Polymer Quantum Mechanics and its Continuum Limit</td>\n",
       "      <td>General Relativity and Quantum Cosmology</td>\n",
       "      <td>A rather non-standard quantum representation...</td>\n",
       "      <td>2008-11-26</td>\n",
       "      <td>[[Corichi, Alejandro, ], [Vukasinac, Tatjana, ...</td>\n",
       "      <td>2007</td>\n",
       "      <td>https://arxiv.org/pdf/0704.0007</td>\n",
       "      <td>16 page</td>\n",
       "    </tr>\n",
       "    <tr>\n",
       "      <th>2</th>\n",
       "      <td>0704.0009</td>\n",
       "      <td>Paul Harvey</td>\n",
       "      <td>The Spitzer c2d Survey of Large, Nearby, Inste...</td>\n",
       "      <td>Astrophysics</td>\n",
       "      <td>We discuss the results from the combined IRA...</td>\n",
       "      <td>2010-03-18</td>\n",
       "      <td>[[Harvey, Paul, ], [Merin, Bruno, ], [Huard, T...</td>\n",
       "      <td>2007</td>\n",
       "      <td>https://arxiv.org/pdf/0704.0009</td>\n",
       "      <td>N/A</td>\n",
       "    </tr>\n",
       "    <tr>\n",
       "      <th>3</th>\n",
       "      <td>0704.0015</td>\n",
       "      <td>Christian Stahn</td>\n",
       "      <td>Fermionic superstring loop amplitudes in the p...</td>\n",
       "      <td>High Energy Physics - Theory</td>\n",
       "      <td>The pure spinor formulation of the ten-dimen...</td>\n",
       "      <td>2009-11-13</td>\n",
       "      <td>[[Stahn, Christian, ]]</td>\n",
       "      <td>2007</td>\n",
       "      <td>https://arxiv.org/pdf/0704.0015</td>\n",
       "      <td>22 page</td>\n",
       "    </tr>\n",
       "    <tr>\n",
       "      <th>4</th>\n",
       "      <td>0704.0016</td>\n",
       "      <td>Li Tong</td>\n",
       "      <td>Lifetime of doubly charmed baryons</td>\n",
       "      <td>High Energy Physics - Phenomenology</td>\n",
       "      <td>In this work, we evaluate the lifetimes of t...</td>\n",
       "      <td>2008-12-18</td>\n",
       "      <td>[[Chang, Chao-Hsi, ], [Li, Tong, ], [Li, Xue-Q...</td>\n",
       "      <td>2008</td>\n",
       "      <td>https://arxiv.org/pdf/0704.0016</td>\n",
       "      <td>17 page</td>\n",
       "    </tr>\n",
       "  </tbody>\n",
       "</table>\n",
       "</div>"
      ],
      "text/plain": [
       "          id          submitter  \\\n",
       "0  0704.0001     Pavel Nadolsky   \n",
       "1  0704.0007  Alejandro Corichi   \n",
       "2  0704.0009        Paul Harvey   \n",
       "3  0704.0015    Christian Stahn   \n",
       "4  0704.0016            Li Tong   \n",
       "\n",
       "                                               title  \\\n",
       "0  Calculation of prompt diphoton production cros...   \n",
       "1  Polymer Quantum Mechanics and its Continuum Limit   \n",
       "2  The Spitzer c2d Survey of Large, Nearby, Inste...   \n",
       "3  Fermionic superstring loop amplitudes in the p...   \n",
       "4                 Lifetime of doubly charmed baryons   \n",
       "\n",
       "                                 categories  \\\n",
       "0       High Energy Physics - Phenomenology   \n",
       "1  General Relativity and Quantum Cosmology   \n",
       "2                              Astrophysics   \n",
       "3              High Energy Physics - Theory   \n",
       "4       High Energy Physics - Phenomenology   \n",
       "\n",
       "                                            abstract update_date  \\\n",
       "0    A fully differential calculation in perturba...  2008-11-26   \n",
       "1    A rather non-standard quantum representation...  2008-11-26   \n",
       "2    We discuss the results from the combined IRA...  2010-03-18   \n",
       "3    The pure spinor formulation of the ten-dimen...  2009-11-13   \n",
       "4    In this work, we evaluate the lifetimes of t...  2008-12-18   \n",
       "\n",
       "                                      authors_parsed  year  \\\n",
       "0  [[Balázs, C., ], [Berger, E. L., ], [Nadolsky,...  2007   \n",
       "1  [[Corichi, Alejandro, ], [Vukasinac, Tatjana, ...  2007   \n",
       "2  [[Harvey, Paul, ], [Merin, Bruno, ], [Huard, T...  2007   \n",
       "3                             [[Stahn, Christian, ]]  2007   \n",
       "4  [[Chang, Chao-Hsi, ], [Li, Tong, ], [Li, Xue-Q...  2008   \n",
       "\n",
       "                          pdf_link    pages  \n",
       "0  https://arxiv.org/pdf/0704.0001  37 page  \n",
       "1  https://arxiv.org/pdf/0704.0007  16 page  \n",
       "2  https://arxiv.org/pdf/0704.0009      N/A  \n",
       "3  https://arxiv.org/pdf/0704.0015  22 page  \n",
       "4  https://arxiv.org/pdf/0704.0016  17 page  "
      ]
     },
     "execution_count": 7,
     "metadata": {},
     "output_type": "execute_result"
    }
   ],
   "source": [
    "df.head()"
   ]
  },
  {
   "cell_type": "code",
   "execution_count": 8,
   "metadata": {
    "execution": {
     "iopub.execute_input": "2020-09-24T14:47:21.533611Z",
     "iopub.status.busy": "2020-09-24T14:47:21.532495Z",
     "iopub.status.idle": "2020-09-24T14:47:21.981128Z",
     "shell.execute_reply": "2020-09-24T14:47:21.980446Z"
    },
    "papermill": {
     "duration": 0.679853,
     "end_time": "2020-09-24T14:47:21.981279",
     "exception": false,
     "start_time": "2020-09-24T14:47:21.301426",
     "status": "completed"
    },
    "tags": []
   },
   "outputs": [
    {
     "name": "stdout",
     "output_type": "stream",
     "text": [
      "<class 'pandas.core.frame.DataFrame'>\n",
      "RangeIndex: 134307 entries, 0 to 134306\n",
      "Data columns (total 10 columns):\n",
      " #   Column          Non-Null Count   Dtype \n",
      "---  ------          --------------   ----- \n",
      " 0   id              134307 non-null  object\n",
      " 1   submitter       130894 non-null  object\n",
      " 2   title           134307 non-null  object\n",
      " 3   categories      134307 non-null  object\n",
      " 4   abstract        134307 non-null  object\n",
      " 5   update_date     134307 non-null  object\n",
      " 6   authors_parsed  134307 non-null  object\n",
      " 7   year            134307 non-null  int64 \n",
      " 8   pdf_link        134307 non-null  object\n",
      " 9   pages           134307 non-null  object\n",
      "dtypes: int64(1), object(9)\n",
      "memory usage: 201.8 MB\n"
     ]
    }
   ],
   "source": [
    "df.info(memory_usage='deep')"
   ]
  },
  {
   "cell_type": "code",
   "execution_count": 9,
   "metadata": {
    "execution": {
     "iopub.execute_input": "2020-09-24T14:47:22.011016Z",
     "iopub.status.busy": "2020-09-24T14:47:22.010059Z",
     "iopub.status.idle": "2020-09-24T14:47:24.213287Z",
     "shell.execute_reply": "2020-09-24T14:47:24.212386Z"
    },
    "papermill": {
     "duration": 2.22059,
     "end_time": "2020-09-24T14:47:24.213438",
     "exception": false,
     "start_time": "2020-09-24T14:47:21.992848",
     "status": "completed"
    },
    "tags": []
   },
   "outputs": [],
   "source": [
    "df.to_pickle('arxiv-last50years-data.pickle')"
   ]
  },
  {
   "cell_type": "code",
   "execution_count": null,
   "metadata": {
    "papermill": {
     "duration": 0.011253,
     "end_time": "2020-09-24T14:47:24.236636",
     "exception": false,
     "start_time": "2020-09-24T14:47:24.225383",
     "status": "completed"
    },
    "tags": []
   },
   "outputs": [],
   "source": []
  }
 ],
 "metadata": {
  "kernelspec": {
   "display_name": "Python 3",
   "language": "python",
   "name": "python3"
  },
  "language_info": {
   "codemirror_mode": {
    "name": "ipython",
    "version": 3
   },
   "file_extension": ".py",
   "mimetype": "text/x-python",
   "name": "python",
   "nbconvert_exporter": "python",
   "pygments_lexer": "ipython3",
   "version": "3.8.3"
  },
  "papermill": {
   "duration": 59.923421,
   "end_time": "2020-09-24T14:47:24.357356",
   "environment_variables": {},
   "exception": null,
   "input_path": "__notebook__.ipynb",
   "output_path": "__notebook__.ipynb",
   "parameters": {},
   "start_time": "2020-09-24T14:46:24.433935",
   "version": "2.1.0"
  },
  "varInspector": {
   "cols": {
    "lenName": 16,
    "lenType": 16,
    "lenVar": 40
   },
   "kernels_config": {
    "python": {
     "delete_cmd_postfix": "",
     "delete_cmd_prefix": "del ",
     "library": "var_list.py",
     "varRefreshCmd": "print(var_dic_list())"
    },
    "r": {
     "delete_cmd_postfix": ") ",
     "delete_cmd_prefix": "rm(",
     "library": "var_list.r",
     "varRefreshCmd": "cat(var_dic_list()) "
    }
   },
   "types_to_exclude": [
    "module",
    "function",
    "builtin_function_or_method",
    "instance",
    "_Feature"
   ],
   "window_display": false
  },
  "widgets": {
   "application/vnd.jupyter.widget-state+json": {
    "state": {
     "0272621d853b495897e171239b2ee0a5": {
      "model_module": "@jupyter-widgets/controls",
      "model_module_version": "1.5.0",
      "model_name": "FloatProgressModel",
      "state": {
       "_dom_classes": [],
       "_model_module": "@jupyter-widgets/controls",
       "_model_module_version": "1.5.0",
       "_model_name": "FloatProgressModel",
       "_view_count": null,
       "_view_module": "@jupyter-widgets/controls",
       "_view_module_version": "1.5.0",
       "_view_name": "ProgressView",
       "bar_style": "success",
       "description": "",
       "description_tooltip": null,
       "layout": "IPY_MODEL_271aee7bb7aa4ca78a346d17a314ce16",
       "max": 1,
       "min": 0,
       "orientation": "horizontal",
       "style": "IPY_MODEL_c2f814c46cc641dd9a0bff233441f262",
       "value": 1
      }
     },
     "0a4977b9737043e795319a713adf05b6": {
      "model_module": "@jupyter-widgets/controls",
      "model_module_version": "1.5.0",
      "model_name": "HTMLModel",
      "state": {
       "_dom_classes": [],
       "_model_module": "@jupyter-widgets/controls",
       "_model_module_version": "1.5.0",
       "_model_name": "HTMLModel",
       "_view_count": null,
       "_view_module": "@jupyter-widgets/controls",
       "_view_module_version": "1.5.0",
       "_view_name": "HTMLView",
       "description": "",
       "description_tooltip": null,
       "layout": "IPY_MODEL_a5b36d788b1c4f5298b5d2a342d23a21",
       "placeholder": "​",
       "style": "IPY_MODEL_98f2c6baef0249799676192893c1473e",
       "value": " 1765688/? [00:48&lt;00:00, 36582.84it/s]"
      }
     },
     "25d6cf2ad2854717a4e18c47ae9e72ae": {
      "model_module": "@jupyter-widgets/base",
      "model_module_version": "1.2.0",
      "model_name": "LayoutModel",
      "state": {
       "_model_module": "@jupyter-widgets/base",
       "_model_module_version": "1.2.0",
       "_model_name": "LayoutModel",
       "_view_count": null,
       "_view_module": "@jupyter-widgets/base",
       "_view_module_version": "1.2.0",
       "_view_name": "LayoutView",
       "align_content": null,
       "align_items": null,
       "align_self": null,
       "border": null,
       "bottom": null,
       "display": null,
       "flex": null,
       "flex_flow": null,
       "grid_area": null,
       "grid_auto_columns": null,
       "grid_auto_flow": null,
       "grid_auto_rows": null,
       "grid_column": null,
       "grid_gap": null,
       "grid_row": null,
       "grid_template_areas": null,
       "grid_template_columns": null,
       "grid_template_rows": null,
       "height": null,
       "justify_content": null,
       "justify_items": null,
       "left": null,
       "margin": null,
       "max_height": null,
       "max_width": null,
       "min_height": null,
       "min_width": null,
       "object_fit": null,
       "object_position": null,
       "order": null,
       "overflow": null,
       "overflow_x": null,
       "overflow_y": null,
       "padding": null,
       "right": null,
       "top": null,
       "visibility": null,
       "width": null
      }
     },
     "271aee7bb7aa4ca78a346d17a314ce16": {
      "model_module": "@jupyter-widgets/base",
      "model_module_version": "1.2.0",
      "model_name": "LayoutModel",
      "state": {
       "_model_module": "@jupyter-widgets/base",
       "_model_module_version": "1.2.0",
       "_model_name": "LayoutModel",
       "_view_count": null,
       "_view_module": "@jupyter-widgets/base",
       "_view_module_version": "1.2.0",
       "_view_name": "LayoutView",
       "align_content": null,
       "align_items": null,
       "align_self": null,
       "border": null,
       "bottom": null,
       "display": null,
       "flex": null,
       "flex_flow": null,
       "grid_area": null,
       "grid_auto_columns": null,
       "grid_auto_flow": null,
       "grid_auto_rows": null,
       "grid_column": null,
       "grid_gap": null,
       "grid_row": null,
       "grid_template_areas": null,
       "grid_template_columns": null,
       "grid_template_rows": null,
       "height": null,
       "justify_content": null,
       "justify_items": null,
       "left": null,
       "margin": null,
       "max_height": null,
       "max_width": null,
       "min_height": null,
       "min_width": null,
       "object_fit": null,
       "object_position": null,
       "order": null,
       "overflow": null,
       "overflow_x": null,
       "overflow_y": null,
       "padding": null,
       "right": null,
       "top": null,
       "visibility": null,
       "width": null
      }
     },
     "98f2c6baef0249799676192893c1473e": {
      "model_module": "@jupyter-widgets/controls",
      "model_module_version": "1.5.0",
      "model_name": "DescriptionStyleModel",
      "state": {
       "_model_module": "@jupyter-widgets/controls",
       "_model_module_version": "1.5.0",
       "_model_name": "DescriptionStyleModel",
       "_view_count": null,
       "_view_module": "@jupyter-widgets/base",
       "_view_module_version": "1.2.0",
       "_view_name": "StyleView",
       "description_width": ""
      }
     },
     "a5b36d788b1c4f5298b5d2a342d23a21": {
      "model_module": "@jupyter-widgets/base",
      "model_module_version": "1.2.0",
      "model_name": "LayoutModel",
      "state": {
       "_model_module": "@jupyter-widgets/base",
       "_model_module_version": "1.2.0",
       "_model_name": "LayoutModel",
       "_view_count": null,
       "_view_module": "@jupyter-widgets/base",
       "_view_module_version": "1.2.0",
       "_view_name": "LayoutView",
       "align_content": null,
       "align_items": null,
       "align_self": null,
       "border": null,
       "bottom": null,
       "display": null,
       "flex": null,
       "flex_flow": null,
       "grid_area": null,
       "grid_auto_columns": null,
       "grid_auto_flow": null,
       "grid_auto_rows": null,
       "grid_column": null,
       "grid_gap": null,
       "grid_row": null,
       "grid_template_areas": null,
       "grid_template_columns": null,
       "grid_template_rows": null,
       "height": null,
       "justify_content": null,
       "justify_items": null,
       "left": null,
       "margin": null,
       "max_height": null,
       "max_width": null,
       "min_height": null,
       "min_width": null,
       "object_fit": null,
       "object_position": null,
       "order": null,
       "overflow": null,
       "overflow_x": null,
       "overflow_y": null,
       "padding": null,
       "right": null,
       "top": null,
       "visibility": null,
       "width": null
      }
     },
     "adebe41993314e7eb759eaed23efe3ba": {
      "model_module": "@jupyter-widgets/controls",
      "model_module_version": "1.5.0",
      "model_name": "HBoxModel",
      "state": {
       "_dom_classes": [],
       "_model_module": "@jupyter-widgets/controls",
       "_model_module_version": "1.5.0",
       "_model_name": "HBoxModel",
       "_view_count": null,
       "_view_module": "@jupyter-widgets/controls",
       "_view_module_version": "1.5.0",
       "_view_name": "HBoxView",
       "box_style": "",
       "children": [
        "IPY_MODEL_0272621d853b495897e171239b2ee0a5",
        "IPY_MODEL_0a4977b9737043e795319a713adf05b6"
       ],
       "layout": "IPY_MODEL_25d6cf2ad2854717a4e18c47ae9e72ae"
      }
     },
     "c2f814c46cc641dd9a0bff233441f262": {
      "model_module": "@jupyter-widgets/controls",
      "model_module_version": "1.5.0",
      "model_name": "ProgressStyleModel",
      "state": {
       "_model_module": "@jupyter-widgets/controls",
       "_model_module_version": "1.5.0",
       "_model_name": "ProgressStyleModel",
       "_view_count": null,
       "_view_module": "@jupyter-widgets/base",
       "_view_module_version": "1.2.0",
       "_view_name": "StyleView",
       "bar_color": null,
       "description_width": "initial"
      }
     }
    },
    "version_major": 2,
    "version_minor": 0
   }
  }
 },
 "nbformat": 4,
 "nbformat_minor": 4
}
