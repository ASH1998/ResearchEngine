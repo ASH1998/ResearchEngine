{
 "cells": [
  {
   "cell_type": "code",
   "execution_count": 1,
   "metadata": {
    "ExecuteTime": {
     "end_time": "2020-09-26T06:32:43.557168Z",
     "start_time": "2020-09-26T06:32:40.425913Z"
    }
   },
   "outputs": [],
   "source": [
    "import pandas as pd"
   ]
  },
  {
   "cell_type": "code",
   "execution_count": 3,
   "metadata": {
    "ExecuteTime": {
     "end_time": "2020-09-26T06:33:41.288361Z",
     "start_time": "2020-09-26T06:33:38.300896Z"
    }
   },
   "outputs": [],
   "source": [
    "df = pd.read_pickle('../data/arxiv-last50years-data.pickle')"
   ]
  },
  {
   "cell_type": "code",
   "execution_count": 4,
   "metadata": {
    "ExecuteTime": {
     "end_time": "2020-09-26T06:33:48.473024Z",
     "start_time": "2020-09-26T06:33:48.421281Z"
    }
   },
   "outputs": [
    {
     "data": {
      "text/html": [
       "<div>\n",
       "<style scoped>\n",
       "    .dataframe tbody tr th:only-of-type {\n",
       "        vertical-align: middle;\n",
       "    }\n",
       "\n",
       "    .dataframe tbody tr th {\n",
       "        vertical-align: top;\n",
       "    }\n",
       "\n",
       "    .dataframe thead th {\n",
       "        text-align: right;\n",
       "    }\n",
       "</style>\n",
       "<table border=\"1\" class=\"dataframe\">\n",
       "  <thead>\n",
       "    <tr style=\"text-align: right;\">\n",
       "      <th></th>\n",
       "      <th>id</th>\n",
       "      <th>submitter</th>\n",
       "      <th>title</th>\n",
       "      <th>categories</th>\n",
       "      <th>abstract</th>\n",
       "      <th>update_date</th>\n",
       "      <th>authors_parsed</th>\n",
       "      <th>year</th>\n",
       "      <th>pdf_link</th>\n",
       "      <th>pages</th>\n",
       "    </tr>\n",
       "  </thead>\n",
       "  <tbody>\n",
       "    <tr>\n",
       "      <th>0</th>\n",
       "      <td>0704.0001</td>\n",
       "      <td>Pavel Nadolsky</td>\n",
       "      <td>Calculation of prompt diphoton production cros...</td>\n",
       "      <td>High Energy Physics - Phenomenology</td>\n",
       "      <td>A fully differential calculation in perturba...</td>\n",
       "      <td>2008-11-26</td>\n",
       "      <td>[[Balázs, C., ], [Berger, E. L., ], [Nadolsky,...</td>\n",
       "      <td>2007</td>\n",
       "      <td>https://arxiv.org/pdf/0704.0001</td>\n",
       "      <td>37 page</td>\n",
       "    </tr>\n",
       "    <tr>\n",
       "      <th>1</th>\n",
       "      <td>0704.0007</td>\n",
       "      <td>Alejandro Corichi</td>\n",
       "      <td>Polymer Quantum Mechanics and its Continuum Limit</td>\n",
       "      <td>General Relativity and Quantum Cosmology</td>\n",
       "      <td>A rather non-standard quantum representation...</td>\n",
       "      <td>2008-11-26</td>\n",
       "      <td>[[Corichi, Alejandro, ], [Vukasinac, Tatjana, ...</td>\n",
       "      <td>2007</td>\n",
       "      <td>https://arxiv.org/pdf/0704.0007</td>\n",
       "      <td>16 page</td>\n",
       "    </tr>\n",
       "    <tr>\n",
       "      <th>2</th>\n",
       "      <td>0704.0009</td>\n",
       "      <td>Paul Harvey</td>\n",
       "      <td>The Spitzer c2d Survey of Large, Nearby, Inste...</td>\n",
       "      <td>Astrophysics</td>\n",
       "      <td>We discuss the results from the combined IRA...</td>\n",
       "      <td>2010-03-18</td>\n",
       "      <td>[[Harvey, Paul, ], [Merin, Bruno, ], [Huard, T...</td>\n",
       "      <td>2007</td>\n",
       "      <td>https://arxiv.org/pdf/0704.0009</td>\n",
       "      <td>N/A</td>\n",
       "    </tr>\n",
       "    <tr>\n",
       "      <th>3</th>\n",
       "      <td>0704.0015</td>\n",
       "      <td>Christian Stahn</td>\n",
       "      <td>Fermionic superstring loop amplitudes in the p...</td>\n",
       "      <td>High Energy Physics - Theory</td>\n",
       "      <td>The pure spinor formulation of the ten-dimen...</td>\n",
       "      <td>2009-11-13</td>\n",
       "      <td>[[Stahn, Christian, ]]</td>\n",
       "      <td>2007</td>\n",
       "      <td>https://arxiv.org/pdf/0704.0015</td>\n",
       "      <td>22 page</td>\n",
       "    </tr>\n",
       "    <tr>\n",
       "      <th>4</th>\n",
       "      <td>0704.0016</td>\n",
       "      <td>Li Tong</td>\n",
       "      <td>Lifetime of doubly charmed baryons</td>\n",
       "      <td>High Energy Physics - Phenomenology</td>\n",
       "      <td>In this work, we evaluate the lifetimes of t...</td>\n",
       "      <td>2008-12-18</td>\n",
       "      <td>[[Chang, Chao-Hsi, ], [Li, Tong, ], [Li, Xue-Q...</td>\n",
       "      <td>2008</td>\n",
       "      <td>https://arxiv.org/pdf/0704.0016</td>\n",
       "      <td>17 page</td>\n",
       "    </tr>\n",
       "  </tbody>\n",
       "</table>\n",
       "</div>"
      ],
      "text/plain": [
       "          id          submitter  \\\n",
       "0  0704.0001     Pavel Nadolsky   \n",
       "1  0704.0007  Alejandro Corichi   \n",
       "2  0704.0009        Paul Harvey   \n",
       "3  0704.0015    Christian Stahn   \n",
       "4  0704.0016            Li Tong   \n",
       "\n",
       "                                               title  \\\n",
       "0  Calculation of prompt diphoton production cros...   \n",
       "1  Polymer Quantum Mechanics and its Continuum Limit   \n",
       "2  The Spitzer c2d Survey of Large, Nearby, Inste...   \n",
       "3  Fermionic superstring loop amplitudes in the p...   \n",
       "4                 Lifetime of doubly charmed baryons   \n",
       "\n",
       "                                 categories  \\\n",
       "0       High Energy Physics - Phenomenology   \n",
       "1  General Relativity and Quantum Cosmology   \n",
       "2                              Astrophysics   \n",
       "3              High Energy Physics - Theory   \n",
       "4       High Energy Physics - Phenomenology   \n",
       "\n",
       "                                            abstract update_date  \\\n",
       "0    A fully differential calculation in perturba...  2008-11-26   \n",
       "1    A rather non-standard quantum representation...  2008-11-26   \n",
       "2    We discuss the results from the combined IRA...  2010-03-18   \n",
       "3    The pure spinor formulation of the ten-dimen...  2009-11-13   \n",
       "4    In this work, we evaluate the lifetimes of t...  2008-12-18   \n",
       "\n",
       "                                      authors_parsed  year  \\\n",
       "0  [[Balázs, C., ], [Berger, E. L., ], [Nadolsky,...  2007   \n",
       "1  [[Corichi, Alejandro, ], [Vukasinac, Tatjana, ...  2007   \n",
       "2  [[Harvey, Paul, ], [Merin, Bruno, ], [Huard, T...  2007   \n",
       "3                             [[Stahn, Christian, ]]  2007   \n",
       "4  [[Chang, Chao-Hsi, ], [Li, Tong, ], [Li, Xue-Q...  2008   \n",
       "\n",
       "                          pdf_link    pages  \n",
       "0  https://arxiv.org/pdf/0704.0001  37 page  \n",
       "1  https://arxiv.org/pdf/0704.0007  16 page  \n",
       "2  https://arxiv.org/pdf/0704.0009      N/A  \n",
       "3  https://arxiv.org/pdf/0704.0015  22 page  \n",
       "4  https://arxiv.org/pdf/0704.0016  17 page  "
      ]
     },
     "execution_count": 4,
     "metadata": {},
     "output_type": "execute_result"
    }
   ],
   "source": [
    "df.head()"
   ]
  },
  {
   "cell_type": "code",
   "execution_count": null,
   "metadata": {},
   "outputs": [],
   "source": []
  }
 ],
 "metadata": {
  "kernelspec": {
   "display_name": "Python 3",
   "language": "python",
   "name": "python3"
  },
  "language_info": {
   "codemirror_mode": {
    "name": "ipython",
    "version": 3
   },
   "file_extension": ".py",
   "mimetype": "text/x-python",
   "name": "python",
   "nbconvert_exporter": "python",
   "pygments_lexer": "ipython3",
   "version": "3.8.3"
  },
  "varInspector": {
   "cols": {
    "lenName": 16,
    "lenType": 16,
    "lenVar": 40
   },
   "kernels_config": {
    "python": {
     "delete_cmd_postfix": "",
     "delete_cmd_prefix": "del ",
     "library": "var_list.py",
     "varRefreshCmd": "print(var_dic_list())"
    },
    "r": {
     "delete_cmd_postfix": ") ",
     "delete_cmd_prefix": "rm(",
     "library": "var_list.r",
     "varRefreshCmd": "cat(var_dic_list()) "
    }
   },
   "types_to_exclude": [
    "module",
    "function",
    "builtin_function_or_method",
    "instance",
    "_Feature"
   ],
   "window_display": false
  }
 },
 "nbformat": 4,
 "nbformat_minor": 4
}
